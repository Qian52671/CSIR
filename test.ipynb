{
 "cells": [
  {
   "cell_type": "code",
   "execution_count": 1,
   "metadata": {},
   "outputs": [],
   "source": [
    "import sys\n",
    "sys.path.append('/Users/liuqianyi/Documents/Customer Segmentation Clustering Based on Image Representation for Energy Consumption')\n",
    "# from preprocess.covert_csv_to_h5 import*\n",
    "\n",
    "# csv_file = './dataset/15minute_data_newyork.csv'\n",
    "# metadata = './dataset/metadata.csv' \n",
    "# convert_dataport([csv_file], metadata, \"15min_newyork.h5\", 3e6)"
   ]
  },
  {
   "attachments": {},
   "cell_type": "markdown",
   "metadata": {},
   "source": [
    "### 1.  Generate daily time series data for each house"
   ]
  },
  {
   "cell_type": "code",
   "execution_count": 2,
   "metadata": {},
   "outputs": [],
   "source": [
    "from preprocess.generate_time_series import generate_all_1day_15min_list\n",
    "house_list = generate_all_1day_15min_list('15min_newyork.h5')"
   ]
  },
  {
   "cell_type": "code",
   "execution_count": 3,
   "metadata": {},
   "outputs": [
    {
     "name": "stdout",
     "output_type": "stream",
     "text": [
      "local_15min\n",
      "2019-05-01 00:00:00-05:00     994.0\n",
      "2019-05-01 00:15:00-05:00     747.0\n",
      "2019-05-01 00:30:00-05:00     605.0\n",
      "2019-05-01 00:45:00-05:00    1054.0\n",
      "2019-05-01 01:00:00-05:00     515.0\n",
      "                              ...  \n",
      "2019-05-01 22:45:00-05:00     391.0\n",
      "2019-05-01 23:00:00-05:00     353.0\n",
      "2019-05-01 23:15:00-05:00     216.0\n",
      "2019-05-01 23:30:00-05:00     602.0\n",
      "2019-05-01 23:45:00-05:00     301.0\n",
      "Freq: 15T, Name: (power, active), Length: 96, dtype: float64\n"
     ]
    }
   ],
   "source": [
    "print(house_list[0][0])"
   ]
  },
  {
   "attachments": {},
   "cell_type": "markdown",
   "metadata": {},
   "source": [
    "### 2.  Transform to heatmap"
   ]
  },
  {
   "cell_type": "code",
   "execution_count": 4,
   "metadata": {},
   "outputs": [
    {
     "name": "stderr",
     "output_type": "stream",
     "text": [
      "/Users/liuqianyi/opt/anaconda3/lib/python3.9/site-packages/seaborn/matrix.py:198: RuntimeWarning: All-NaN slice encountered\n",
      "  vmin = np.nanmin(calc_data)\n",
      "/Users/liuqianyi/opt/anaconda3/lib/python3.9/site-packages/seaborn/matrix.py:203: RuntimeWarning: All-NaN slice encountered\n",
      "  vmax = np.nanmax(calc_data)\n"
     ]
    }
   ],
   "source": [
    "from create_heatmaps import*\n",
    "\n",
    "create_heatmap(house_list)"
   ]
  },
  {
   "attachments": {},
   "cell_type": "markdown",
   "metadata": {},
   "source": [
    "### 3.  Enhance heatmaps"
   ]
  },
  {
   "cell_type": "code",
   "execution_count": 5,
   "metadata": {},
   "outputs": [
    {
     "name": "stderr",
     "output_type": "stream",
     "text": [
      "2023-08-30 22:08:47.480867: I tensorflow/core/platform/cpu_feature_guard.cc:182] This TensorFlow binary is optimized to use available CPU instructions in performance-critical operations.\n",
      "To enable the following instructions: AVX2 AVX512F AVX512_VNNI FMA, in other operations, rebuild TensorFlow with the appropriate compiler flags.\n"
     ]
    },
    {
     "name": "stdout",
     "output_type": "stream",
     "text": [
      "(2760, 112, 112, 3)\n"
     ]
    }
   ],
   "source": [
    "from enhance_heatmaps import*\n",
    "image_dir = './15_building_184days_plots'\n",
    "x,df = enhance_heatmaps(image_dir)"
   ]
  },
  {
   "attachments": {},
   "cell_type": "markdown",
   "metadata": {},
   "source": [
    "### 4.  Input into CAE model"
   ]
  },
  {
   "cell_type": "code",
   "execution_count": 6,
   "metadata": {},
   "outputs": [],
   "source": [
    "from CAE_model import *\n",
    "\n",
    "save_dir = './model_saver'\n",
    "autoencoder, encoder = CNN_autoencoder(img_shape = (112, 112, 3))\n",
    "# pretain_autoencoder = pretrain_model(x,autoencoder,save_dir)"
   ]
  },
  {
   "cell_type": "code",
   "execution_count": 7,
   "metadata": {},
   "outputs": [
    {
     "data": {
      "text/plain": [
       "<KerasTensor: shape=(None, 112, 112, 3) dtype=float32 (created by layer 'input_1')>"
      ]
     },
     "execution_count": 7,
     "metadata": {},
     "output_type": "execute_result"
    }
   ],
   "source": [
    "autoencoder.input"
   ]
  },
  {
   "attachments": {},
   "cell_type": "markdown",
   "metadata": {},
   "source": [
    "### 5.  Evaluation CAE model"
   ]
  },
  {
   "cell_type": "code",
   "execution_count": 8,
   "metadata": {},
   "outputs": [
    {
     "name": "stdout",
     "output_type": "stream",
     "text": [
      "87/87 [==============================] - 10s 104ms/step\n",
      "Average RMSE: 0.04389308302883385\n",
      "Average MAE): 0.024835846908904072\n"
     ]
    }
   ],
   "source": [
    "from evaluation import *\n",
    "CAE_evaluation(x,autoencoder)"
   ]
  },
  {
   "cell_type": "markdown",
   "metadata": {},
   "source": [
    "### 6.  Clustering Dimension Reduction Image Data"
   ]
  },
  {
   "cell_type": "code",
   "execution_count": 9,
   "metadata": {},
   "outputs": [
    {
     "name": "stdout",
     "output_type": "stream",
     "text": [
      "87/87 [==============================] - 2s 16ms/step\n",
      "(2760, 265)\n"
     ]
    }
   ],
   "source": [
    "from proper_k import *\n",
    "reduction_x = d_x(autoencoder,encoder, x)\n",
    "k_values = list(range(3, 20))"
   ]
  },
  {
   "attachments": {},
   "cell_type": "markdown",
   "metadata": {},
   "source": [
    "### 7.  Clustering Result"
   ]
  },
  {
   "cell_type": "code",
   "execution_count": 10,
   "metadata": {},
   "outputs": [
    {
     "name": "stderr",
     "output_type": "stream",
     "text": [
      "/Users/liuqianyi/opt/anaconda3/lib/python3.9/site-packages/sklearn/cluster/_kmeans.py:1412: FutureWarning: The default value of `n_init` will change from 10 to 'auto' in 1.4. Set the value of `n_init` explicitly to suppress the warning\n",
      "  super()._check_params_vs_input(X, default_n_init=10)\n"
     ]
    }
   ],
   "source": [
    "from clustering import *\n",
    "image_folder = './15_building_184days_plots'\n",
    "if_show_images = 'No'\n",
    "new_df, select_cluster = kmean_clustering(15, df, reduction_x , image_folder, 3, if_show_images)"
   ]
  },
  {
   "cell_type": "code",
   "execution_count": 11,
   "metadata": {},
   "outputs": [
    {
     "name": "stdout",
     "output_type": "stream",
     "text": [
      "                             filename  cluster_label  building_id  day  month  \\\n",
      "3        building_1_day_4_heatmap.png           13.0            1    4      5   \n",
      "4        building_1_day_5_heatmap.png           13.0            1    5      5   \n",
      "65      building_1_day_66_heatmap.png           13.0            1   66      7   \n",
      "70      building_1_day_71_heatmap.png           13.0            1   71      7   \n",
      "77      building_1_day_78_heatmap.png           13.0            1   78      7   \n",
      "...                               ...            ...          ...  ...    ...   \n",
      "2681  building_15_day_106_heatmap.png           13.0           15  106      8   \n",
      "2743  building_15_day_168_heatmap.png           13.0           15  168     10   \n",
      "2752  building_15_day_177_heatmap.png           13.0           15  177     10   \n",
      "2755  building_15_day_180_heatmap.png           13.0           15  180     10   \n",
      "2756  building_15_day_181_heatmap.png           13.0           15  181     10   \n",
      "\n",
      "      season  \n",
      "3          0  \n",
      "4          0  \n",
      "65         1  \n",
      "70         1  \n",
      "77         1  \n",
      "...      ...  \n",
      "2681       1  \n",
      "2743       0  \n",
      "2752       0  \n",
      "2755       0  \n",
      "2756       0  \n",
      "\n",
      "[146 rows x 6 columns]\n",
      "building_1_day_4_heatmap.png\n",
      "building_1_day_5_heatmap.png\n",
      "building_1_day_66_heatmap.png\n",
      "building_1_day_71_heatmap.png\n",
      "building_1_day_78_heatmap.png\n",
      "building_1_day_80_heatmap.png\n",
      "building_1_day_118_heatmap.png\n",
      "building_1_day_155_heatmap.png\n",
      "building_1_day_160_heatmap.png\n",
      "building_2_day_1_heatmap.png\n",
      "building_2_day_14_heatmap.png\n",
      "building_2_day_16_heatmap.png\n",
      "building_2_day_72_heatmap.png\n",
      "building_2_day_141_heatmap.png\n",
      "building_2_day_143_heatmap.png\n",
      "building_2_day_147_heatmap.png\n",
      "building_3_day_2_heatmap.png\n",
      "building_3_day_21_heatmap.png\n",
      "building_3_day_37_heatmap.png\n",
      "building_3_day_67_heatmap.png\n",
      "building_4_day_29_heatmap.png\n",
      "building_4_day_40_heatmap.png\n",
      "building_4_day_107_heatmap.png\n",
      "building_4_day_123_heatmap.png\n",
      "building_4_day_146_heatmap.png\n",
      "building_4_day_147_heatmap.png\n",
      "building_4_day_171_heatmap.png\n",
      "building_5_day_8_heatmap.png\n",
      "building_5_day_24_heatmap.png\n",
      "building_5_day_47_heatmap.png\n",
      "building_5_day_65_heatmap.png\n",
      "building_5_day_66_heatmap.png\n",
      "building_5_day_81_heatmap.png\n",
      "building_5_day_93_heatmap.png\n",
      "building_5_day_135_heatmap.png\n",
      "building_5_day_157_heatmap.png\n",
      "building_5_day_171_heatmap.png\n",
      "building_6_day_3_heatmap.png\n",
      "building_6_day_20_heatmap.png\n",
      "building_6_day_30_heatmap.png\n",
      "building_6_day_39_heatmap.png\n",
      "building_6_day_44_heatmap.png\n",
      "building_6_day_60_heatmap.png\n",
      "building_6_day_61_heatmap.png\n",
      "building_6_day_74_heatmap.png\n",
      "building_6_day_87_heatmap.png\n",
      "building_6_day_96_heatmap.png\n",
      "building_6_day_127_heatmap.png\n",
      "building_6_day_131_heatmap.png\n",
      "building_6_day_142_heatmap.png\n",
      "building_6_day_162_heatmap.png\n",
      "building_6_day_168_heatmap.png\n",
      "building_7_day_10_heatmap.png\n",
      "building_7_day_30_heatmap.png\n",
      "building_7_day_40_heatmap.png\n",
      "building_7_day_52_heatmap.png\n",
      "building_7_day_54_heatmap.png\n",
      "building_7_day_66_heatmap.png\n",
      "building_7_day_84_heatmap.png\n",
      "building_7_day_100_heatmap.png\n",
      "building_7_day_134_heatmap.png\n",
      "building_7_day_142_heatmap.png\n",
      "building_7_day_146_heatmap.png\n",
      "building_7_day_151_heatmap.png\n",
      "building_7_day_159_heatmap.png\n",
      "building_8_day_24_heatmap.png\n",
      "building_8_day_35_heatmap.png\n",
      "building_8_day_45_heatmap.png\n",
      "building_8_day_50_heatmap.png\n",
      "building_8_day_52_heatmap.png\n",
      "building_8_day_62_heatmap.png\n",
      "building_8_day_87_heatmap.png\n",
      "building_8_day_98_heatmap.png\n",
      "building_8_day_99_heatmap.png\n",
      "building_8_day_121_heatmap.png\n",
      "building_8_day_136_heatmap.png\n",
      "building_9_day_4_heatmap.png\n",
      "building_9_day_7_heatmap.png\n",
      "building_9_day_21_heatmap.png\n",
      "building_9_day_33_heatmap.png\n",
      "building_9_day_39_heatmap.png\n",
      "building_9_day_49_heatmap.png\n",
      "building_9_day_63_heatmap.png\n",
      "building_9_day_66_heatmap.png\n",
      "building_9_day_71_heatmap.png\n",
      "building_9_day_105_heatmap.png\n",
      "building_9_day_110_heatmap.png\n",
      "building_9_day_123_heatmap.png\n",
      "building_9_day_142_heatmap.png\n",
      "building_9_day_172_heatmap.png\n",
      "building_10_day_6_heatmap.png\n",
      "building_10_day_22_heatmap.png\n",
      "building_10_day_23_heatmap.png\n",
      "building_10_day_24_heatmap.png\n",
      "building_10_day_34_heatmap.png\n",
      "building_10_day_62_heatmap.png\n",
      "building_10_day_104_heatmap.png\n",
      "building_10_day_114_heatmap.png\n",
      "building_10_day_129_heatmap.png\n",
      "building_10_day_154_heatmap.png\n",
      "building_11_day_5_heatmap.png\n",
      "building_11_day_104_heatmap.png\n",
      "building_11_day_106_heatmap.png\n",
      "building_11_day_117_heatmap.png\n",
      "building_11_day_141_heatmap.png\n",
      "building_11_day_153_heatmap.png\n",
      "building_11_day_165_heatmap.png\n",
      "building_11_day_166_heatmap.png\n",
      "building_11_day_182_heatmap.png\n",
      "building_12_day_6_heatmap.png\n",
      "building_12_day_7_heatmap.png\n",
      "building_12_day_17_heatmap.png\n",
      "building_12_day_50_heatmap.png\n",
      "building_12_day_101_heatmap.png\n",
      "building_12_day_113_heatmap.png\n",
      "building_12_day_121_heatmap.png\n",
      "building_12_day_134_heatmap.png\n",
      "building_12_day_138_heatmap.png\n",
      "building_12_day_153_heatmap.png\n",
      "building_12_day_178_heatmap.png\n",
      "building_12_day_179_heatmap.png\n",
      "building_13_day_16_heatmap.png\n",
      "building_13_day_34_heatmap.png\n",
      "building_13_day_53_heatmap.png\n",
      "building_13_day_56_heatmap.png\n",
      "building_13_day_58_heatmap.png\n",
      "building_13_day_77_heatmap.png\n",
      "building_13_day_129_heatmap.png\n",
      "building_13_day_140_heatmap.png\n",
      "building_14_day_47_heatmap.png\n",
      "building_14_day_49_heatmap.png\n",
      "building_14_day_53_heatmap.png\n",
      "building_14_day_54_heatmap.png\n",
      "building_14_day_56_heatmap.png\n",
      "building_14_day_86_heatmap.png\n",
      "building_14_day_94_heatmap.png\n",
      "building_14_day_180_heatmap.png\n",
      "building_15_day_7_heatmap.png\n",
      "building_15_day_14_heatmap.png\n",
      "building_15_day_59_heatmap.png\n",
      "building_15_day_92_heatmap.png\n",
      "building_15_day_106_heatmap.png\n",
      "building_15_day_168_heatmap.png\n",
      "building_15_day_177_heatmap.png\n",
      "building_15_day_180_heatmap.png\n",
      "building_15_day_181_heatmap.png\n",
      "period:05:59:59, average power:544.2788461538462\n",
      "period:11:59:59, average power:890.875\n",
      "period:17:59:59, average power:1018.9038461538462\n",
      "period:23:59:59, average power:1119.576923076923\n"
     ]
    }
   ],
   "source": [
    "cluster_check_avg(new_df,13)"
   ]
  }
 ],
 "metadata": {
  "kernelspec": {
   "display_name": "base",
   "language": "python",
   "name": "python3"
  },
  "language_info": {
   "codemirror_mode": {
    "name": "ipython",
    "version": 3
   },
   "file_extension": ".py",
   "mimetype": "text/x-python",
   "name": "python",
   "nbconvert_exporter": "python",
   "pygments_lexer": "ipython3",
   "version": "3.9.7"
  },
  "orig_nbformat": 4,
  "vscode": {
   "interpreter": {
    "hash": "aa25df4cf14339315a06d94cb396434b46ccd934ead89b90ac466538f5ecf8b6"
   }
  }
 },
 "nbformat": 4,
 "nbformat_minor": 2
}
